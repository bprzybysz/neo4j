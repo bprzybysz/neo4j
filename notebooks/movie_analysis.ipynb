{
 "cells": [
  {
   "cell_type": "markdown",
   "id": "d41d56e5",
   "metadata": {
    "id": "97f39187-b5d1-45c2-9012-1c8f9c5a86d4"
   },
   "source": [
    "# Movie Graph Analysis Demo\n",
    "\n",
    "This notebook demonstrates basic analysis of the Neo4j movie graph database."
   ]
  },
  {
   "cell_type": "code",
   "execution_count": 1,
   "id": "9eed283b",
   "metadata": {
    "ExecuteTime": {
     "end_time": "2025-04-08T15:07:32.360164Z",
     "start_time": "2025-04-08T15:07:32.002878Z"
    },
    "id": "bb407747-66b7-45ec-86fa-d543e9b57d2d"
   },
   "outputs": [
    {
     "ename": "ImportError",
     "evalue": "cannot import name 'GraphDatabvase' from 'neo4j' (/Users/bprzybysz/nc-src/nordcloud-interviews/.venv/lib/python3.11/site-packages/neo4j/__init__.py)",
     "output_type": "error",
     "traceback": [
      "\u001b[31m---------------------------------------------------------------------------\u001b[39m",
      "\u001b[31mImportError\u001b[39m                               Traceback (most recent call last)",
      "\u001b[36mCell\u001b[39m\u001b[36m \u001b[39m\u001b[32mIn[1]\u001b[39m\u001b[32m, line 5\u001b[39m\n\u001b[32m      3\u001b[39m \u001b[38;5;28;01mimport\u001b[39;00m\u001b[38;5;250m \u001b[39m\u001b[34;01mmatplotlib\u001b[39;00m\u001b[34;01m.\u001b[39;00m\u001b[34;01mpyplot\u001b[39;00m\u001b[38;5;250m \u001b[39m\u001b[38;5;28;01mas\u001b[39;00m\u001b[38;5;250m \u001b[39m\u001b[34;01mplt\u001b[39;00m\n\u001b[32m      4\u001b[39m \u001b[38;5;28;01mimport\u001b[39;00m\u001b[38;5;250m \u001b[39m\u001b[34;01mseaborn\u001b[39;00m\u001b[38;5;250m \u001b[39m\u001b[38;5;28;01mas\u001b[39;00m\u001b[38;5;250m \u001b[39m\u001b[34;01msns\u001b[39;00m\n\u001b[32m----> \u001b[39m\u001b[32m5\u001b[39m \u001b[38;5;28;01mfrom\u001b[39;00m\u001b[38;5;250m \u001b[39m\u001b[34;01mneo4j\u001b[39;00m\u001b[38;5;250m \u001b[39m\u001b[38;5;28;01mimport\u001b[39;00m GraphDatabvase\n\u001b[32m      7\u001b[39m \u001b[38;5;66;03m# Configure visualization\u001b[39;00m\n\u001b[32m      8\u001b[39m plt.style.use(\u001b[33m'\u001b[39m\u001b[33mggplot\u001b[39m\u001b[33m'\u001b[39m)\n",
      "\u001b[31mImportError\u001b[39m: cannot import name 'GraphDatabvase' from 'neo4j' (/Users/bprzybysz/nc-src/nordcloud-interviews/.venv/lib/python3.11/site-packages/neo4j/__init__.py)"
     ]
    }
   ],
   "source": [
    "# Standard imports\n",
    "import pandas as pd\n",
    "import matplotlib.pyplot as plt\n",
    "import seaborn as sns\n",
    "from neo4j import GraphDatabvase\n",
    "\n",
    "# Configure visualization\n",
    "plt.style.use('ggplot')\n",
    "sns.set(style=\"whitegrid\")"
   ]
  },
  {
   "cell_type": "markdown",
   "id": "23afcbd7",
   "metadata": {
    "id": "16bd286e-ccee-46ae-af77-df3a6eba3982"
   },
   "source": [
    "## Database Connection\n",
    "\n",
    "Initialize the Neo4j connection using our standardized connection class."
   ]
  },
  {
   "cell_type": "code",
   "execution_count": null,
   "id": "ee692720",
   "metadata": {
    "id": "1a044638-8296-47f5-a646-d4c7f7fac927"
   },
   "outputs": [],
   "source": [
    "class Neo4jConnection:\n",
    "    \"\"\"Handles Neo4j database connections and queries.\"\"\"\n",
    "    \n",
    "    def __init__(self, uri: str, auth: tuple):\n",
    "        self.driver = GraphDatabase.driver(uri, auth=auth)\n",
    "        \n",
    "    def close(self):\n",
    "        \"\"\"Close the Neo4j connection.\"\"\"\n",
    "        self.driver.close()\n",
    "        \n",
    "    def query(self, query: str, parameters: dict = None) -> pd.DataFrame:\n",
    "        \"\"\"Execute Neo4j query and return results as DataFrame.\"\"\"\n",
    "        with self.driver.session() as session:\n",
    "            result = session.run(query, parameters)\n",
    "            return pd.DataFrame([r.values() for r in result], columns=result.keys())"
   ]
  },
  {
   "cell_type": "code",
   "execution_count": null,
   "id": "51179515",
   "metadata": {
    "id": "e0374643-b26c-4e1f-86bc-88eb6b5311c6"
   },
   "outputs": [],
   "source": [
    "# Initialize connection\n",
    "URI = \"bolt://localhost:7687\"\n",
    "AUTH = (\"neo4j\", \"password\")  # Update with actual credentials\n",
    "\n",
    "try:\n",
    "    conn = Neo4jConnection(URI, AUTH)\n",
    "    print(\"Successfully connected to Neo4j\")\n",
    "except Exception as e:\n",
    "    print(f\"Failed to connect: {e}\")"
   ]
  }
 ],
 "metadata": {
  "kernelspec": {
   "display_name": ".venv",
   "language": "python",
   "name": "python3"
  },
  "language_info": {
   "codemirror_mode": {
    "name": "ipython",
    "version": 3
   },
   "file_extension": ".py",
   "mimetype": "text/x-python",
   "name": "python",
   "nbconvert_exporter": "python",
   "pygments_lexer": "ipython3",
   "version": "3.11.8"
  }
 },
 "nbformat": 4,
 "nbformat_minor": 5
}