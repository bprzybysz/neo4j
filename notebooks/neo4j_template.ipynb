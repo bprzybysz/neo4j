{
 "nbformat": 4,
 "nbformat_minor": 5,
 "metadata": {
  "kernelspec": {
   "display_name": "Python 3",
   "language": "python",
   "name": "python3"
  },
  "language_info": {
   "codemirror_mode": {
    "name": "ipython",
    "version": 3
   },
   "file_extension": ".py",
   "mimetype": "text/x-python",
   "name": "python",
   "nbconvert_exporter": "python",
   "pygments_lexer": "ipython3",
   "version": "3.11.8"
  }
 },
 "cells": [
  {
   "cell_type": "markdown",
   "metadata": {
    "id": "b5a27e40-9a9c-47db-90a2-9c7bff882de6"
   },
   "source": [
    "# Neo4j Graph Analysis\n",
    "\n",
    "This notebook was created following the standard format for compatibility with Cursor and Spark environments.\n"
   ]
  },
  {
   "cell_type": "code",
   "metadata": {
    "id": "be8c3926-a0b9-45a5-895e-97bd070d1241"
   },
   "source": [
    "# Standard imports\n",
    "import pandas as pd\n",
    "import numpy as np\n",
    "import matplotlib.pyplot as plt\n",
    "import seaborn as sns\n",
    "\n",
    "# Configure visualization\n",
    "plt.style.use('ggplot')\n",
    "sns.set(style=\"whitegrid\")\n"
   ],
   "execution_count": null,
   "outputs": []
  },
  {
   "cell_type": "markdown",
   "metadata": {
    "id": "e2a1b67e-94ae-42c4-b422-052b9e017f74"
   },
   "source": [
    "## Spark Integration\n",
    "\n",
    "Initialize Spark session for data processing.\n"
   ]
  },
  {
   "cell_type": "code",
   "metadata": {
    "id": "5e1d2b9c-b44a-431b-bdd3-53d8c382fe5a"
   },
   "source": [
    "%%pyspark\n",
    "# Initialize Spark Session\n",
    "from pyspark.sql import SparkSession\n",
    "\n",
    "spark = SparkSession.builder \\\n",
    "    .appName(\"Notebook\") \\\n",
    "    .config(\"spark.sql.execution.arrow.pyspark.enabled\", \"true\") \\\n",
    "    .getOrCreate()\n"
   ],
   "execution_count": null,
   "outputs": []
  },
  {
   "cell_type": "code",
   "metadata": {
    "id": "11ee5751-6c29-477b-a4be-64e241910d1c"
   },
   "source": [
    "# Load data with Spark\n",
    "# Replace with your actual data source\n",
    "df = spark.read.csv(\"data/sample.csv\", header=True, inferSchema=True)\n",
    "df = df.cache()  # Improved performance with caching\n",
    "\n",
    "# Display sample data\n",
    "df.limit(5).toPandas()\n"
   ],
   "execution_count": null,
   "outputs": []
  },
  {
   "cell_type": "code",
   "metadata": {
    "id": "5d4f4b8c-642b-44bf-8822-fbf453916942"
   },
   "source": [
    "%%pyspark\n",
    "# Spark SQL example\n",
    "df.createOrReplaceTempView(\"data\")\n",
    "\n",
    "result = spark.sql(\"\"\"\n",
    "SELECT *\n",
    "FROM data\n",
    "LIMIT 10\n",
    "\"\"\")\n",
    "\n",
    "result.toPandas()\n"
   ],
   "execution_count": null,
   "outputs": []
  },
  {
   "cell_type": "markdown",
   "metadata": {
    "id": "aac5b1e5-31dd-4352-b17b-1f462d97a2c9"
   },
   "source": [
    "## Data Analysis\n",
    "\n",
    "This section contains data analysis code.\n"
   ]
  },
  {
   "cell_type": "code",
   "metadata": {
    "id": "1c147422-3326-40a8-8e34-15c81425c462"
   },
   "source": [
    "# Data analysis example\n",
    "# Replace with your actual analysis code\n",
    "\n",
    "# Sample DataFrame for demonstration\n",
    "sample_df = pd.DataFrame({\n",
    "    'A': np.random.randn(100),\n",
    "    'B': np.random.randn(100),\n",
    "    'C': np.random.randn(100)\n",
    "})\n",
    "\n",
    "# Display sample data\n",
    "sample_df.head()\n"
   ],
   "execution_count": null,
   "outputs": []
  },
  {
   "cell_type": "code",
   "metadata": {
    "id": "16e8bc8b-24c0-493a-b0c6-6f88045f6966"
   },
   "source": [
    "# Visualization example\n",
    "plt.figure(figsize=(10, 6))\n",
    "sns.histplot(data=sample_df, x='A', kde=True)\n",
    "plt.title('Distribution of A')\n",
    "plt.xlabel('Value')\n",
    "plt.ylabel('Frequency')\n",
    "plt.grid(True)\n",
    "plt.show()\n"
   ],
   "execution_count": null,
   "outputs": []
  },
  {
   "cell_type": "markdown",
   "metadata": {
    "id": "a17ea9e2-e34c-4304-bab4-5e9067db02c7"
   },
   "source": [
    "## Conclusion\n",
    "\n",
    "Summary of findings and next steps.\n"
   ]
  }
 ]
}